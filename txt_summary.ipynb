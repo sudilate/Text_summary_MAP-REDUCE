{
 "cells": [
  {
   "cell_type": "code",
   "execution_count": 1,
   "metadata": {},
   "outputs": [
    {
     "name": "stderr",
     "output_type": "stream",
     "text": [
      "Python-dotenv could not parse statement starting at line 1\n",
      "Python-dotenv could not parse statement starting at line 3\n"
     ]
    },
    {
     "data": {
      "text/plain": [
       "True"
      ]
     },
     "execution_count": 1,
     "metadata": {},
     "output_type": "execute_result"
    }
   ],
   "source": [
    "import os\n",
    "from dotenv import load_dotenv\n",
    "os.environ[\"OPENAI_API_KEY\"] = os.getenv(\"OPENAI_API_KEY\")\n",
    "load_dotenv()"
   ]
  },
  {
   "cell_type": "code",
   "execution_count": 2,
   "metadata": {},
   "outputs": [],
   "source": [
    "from langchain.chat_models import ChatOpenAI\n",
    "from langchain.schema import(\n",
    "    AIMessage,\n",
    "    SystemMessage,\n",
    "    HumanMessage\n",
    ")"
   ]
  },
  {
   "cell_type": "code",
   "execution_count": 3,
   "metadata": {},
   "outputs": [],
   "source": [
    "speech = \"\"\"It is peculiarly incumbent upon you who have strength to set a right example to others. I ask you to remember that you cannot retain your self-respect if you are loose and foul of tongue, that a man who is to lead a clean and honorable life must inevitably suffer if his speech likewise is not clean and honorable. Every man here knows the temptations that beset all of us in this world. At times any man will slip. I do not expect perfection, but I do expect genuine and sincere effort toward being decent and cleanly in thought, in word, and in deed. As I said at the outset, I hail the work of this society as typifying one of those forces which tend to the betterment and uplifting of our social system. Our whole effort should be toward securing a combination of the strong qualities with those qualities which we term virtues. I expect you to be strong. I would not respect you if you were not. I do not want to see Christianity professed only by weaklings; I want to see it a moving spirit among men of strength. I do not expect you to lose one particle of your strength or courage by being decent. On the contrary, I should hope to see each man who is a member of this society, from his membership in it become all the fitter to do the rough work of the world; all the fitter to work in time of peace; and if, which may Heaven forfend, war should come, all the fitter to fight in time of war. I desire to see in this country the decent men strong and the strong men decent, and until we get that combination in pretty good shape we are not going to be by any means as successful as we should be. There is always a tendency among very young men and among boys who are not quite young men as yet to think that to be wicked is rather smart; to think it shows that they are men. Oh, how often you see some young fellow who boasts that he is going to \"see life,\" meaning by that that he is going to see that part of life which it is a thousandfold better should remain unseen!\"\"\""
   ]
  },
  {
   "cell_type": "code",
   "execution_count": 4,
   "metadata": {},
   "outputs": [
    {
     "name": "stderr",
     "output_type": "stream",
     "text": [
      "/var/folders/tj/mjhklfhd2wq10lszc5sy13tr0000gn/T/ipykernel_82714/3323309270.py:6: LangChainDeprecationWarning: The class `ChatOpenAI` was deprecated in LangChain 0.0.10 and will be removed in 1.0. An updated version of the class exists in the :class:`~langchain-openai package and should be used instead. To use it run `pip install -U :class:`~langchain-openai` and import as `from :class:`~langchain_openai import ChatOpenAI``.\n",
      "  llm = ChatOpenAI(model_name='gpt-4o-mini')\n"
     ]
    }
   ],
   "source": [
    "chat_messages = [\n",
    "    SystemMessage(content='You are an expert assistant with expertize in summarizing speeches'),\n",
    "    HumanMessage(content=f\"Please provide a short and concise summary of the following speech:\\n TEXT: {speech}\")\n",
    "\n",
    "]\n",
    "llm = ChatOpenAI(model_name='gpt-4o-mini')\n"
   ]
  },
  {
   "cell_type": "code",
   "execution_count": 5,
   "metadata": {},
   "outputs": [
    {
     "data": {
      "text/plain": [
       "434"
      ]
     },
     "execution_count": 5,
     "metadata": {},
     "output_type": "execute_result"
    }
   ],
   "source": [
    "llm.get_num_tokens(speech)"
   ]
  },
  {
   "cell_type": "code",
   "execution_count": 7,
   "metadata": {},
   "outputs": [
    {
     "name": "stderr",
     "output_type": "stream",
     "text": [
      "/var/folders/tj/mjhklfhd2wq10lszc5sy13tr0000gn/T/ipykernel_82714/1441627176.py:1: LangChainDeprecationWarning: The method `BaseChatModel.__call__` was deprecated in langchain-core 0.1.7 and will be removed in 1.0. Use :meth:`~invoke` instead.\n",
      "  llm(chat_messages).content\n"
     ]
    },
    {
     "data": {
      "text/plain": [
       "'In this speech, the speaker emphasizes the importance of setting a strong moral example, particularly for those who possess strength. He asserts that maintaining self-respect requires clean and honorable speech, and that while perfection is not expected, a sincere effort towards decency is essential. The speaker praises the work of a society aimed at improving social standards and calls for the combination of strength with virtuous qualities. He desires to see strong men embodying decency, arguing that true strength does not diminish with decency. Additionally, he cautions against the misguided belief among youth that wickedness equates to manliness, advocating instead for a life of integrity.'"
      ]
     },
     "execution_count": 7,
     "metadata": {},
     "output_type": "execute_result"
    }
   ],
   "source": [
    "llm(chat_messages).content"
   ]
  },
  {
   "cell_type": "code",
   "execution_count": 8,
   "metadata": {},
   "outputs": [
    {
     "name": "stdout",
     "output_type": "stream",
     "text": [
      "The speaker emphasizes the importance of setting a positive example, particularly for those who possess strength. He argues that self-respect and a clean, honorable life are essential, and while perfection is not expected, genuine efforts toward decency in thought, word, and deed are crucial. The speaker commends the society's efforts toward social betterment and advocates for a combination of strength and virtue among men. He rejects the notion that wickedness is a sign of manliness, urging young men to seek a life of integrity instead. Ultimately, he calls for strong men to embody decency, asserting that this combination is vital for success in society.\n"
     ]
    }
   ],
   "source": [
    "##get_summary\n",
    "print(llm(chat_messages).content)"
   ]
  },
  {
   "cell_type": "markdown",
   "metadata": {},
   "source": [
    "Prompt Templates Text Summarization"
   ]
  },
  {
   "cell_type": "code",
   "execution_count": 9,
   "metadata": {},
   "outputs": [],
   "source": [
    "from langchain.chains import LLMChain\n",
    "from langchain import PromptTemplate"
   ]
  },
  {
   "cell_type": "code",
   "execution_count": 10,
   "metadata": {},
   "outputs": [],
   "source": [
    "generic_template='''\n",
    "Write a summary of the following speech:\n",
    "Speech : `{speech}`\n",
    "Translate the precise summary to {language}.\n",
    "'''\n",
    "prompt=PromptTemplate(\n",
    "    input_variables=['speech','language'],\n",
    "    template=generic_template\n",
    ")"
   ]
  },
  {
   "cell_type": "code",
   "execution_count": 11,
   "metadata": {},
   "outputs": [
    {
     "data": {
      "text/plain": [
       "'\\nWrite a summary of the following speech:\\nSpeech : `It is peculiarly incumbent upon you who have strength to set a right example to others. I ask you to remember that you cannot retain your self-respect if you are loose and foul of tongue, that a man who is to lead a clean and honorable life must inevitably suffer if his speech likewise is not clean and honorable. Every man here knows the temptations that beset all of us in this world. At times any man will slip. I do not expect perfection, but I do expect genuine and sincere effort toward being decent and cleanly in thought, in word, and in deed. As I said at the outset, I hail the work of this society as typifying one of those forces which tend to the betterment and uplifting of our social system. Our whole effort should be toward securing a combination of the strong qualities with those qualities which we term virtues. I expect you to be strong. I would not respect you if you were not. I do not want to see Christianity professed only by weaklings; I want to see it a moving spirit among men of strength. I do not expect you to lose one particle of your strength or courage by being decent. On the contrary, I should hope to see each man who is a member of this society, from his membership in it become all the fitter to do the rough work of the world; all the fitter to work in time of peace; and if, which may Heaven forfend, war should come, all the fitter to fight in time of war. I desire to see in this country the decent men strong and the strong men decent, and until we get that combination in pretty good shape we are not going to be by any means as successful as we should be. There is always a tendency among very young men and among boys who are not quite young men as yet to think that to be wicked is rather smart; to think it shows that they are men. Oh, how often you see some young fellow who boasts that he is going to \"see life,\" meaning by that that he is going to see that part of life which it is a thousandfold better should remain unseen!`\\nTranslate the precise summary to Kannada.\\n'"
      ]
     },
     "execution_count": 11,
     "metadata": {},
     "output_type": "execute_result"
    }
   ],
   "source": [
    "prompt.format(speech=speech,language='Kannada')"
   ]
  },
  {
   "cell_type": "code",
   "execution_count": 12,
   "metadata": {},
   "outputs": [],
   "source": [
    "complete_prompt=prompt.format(speech=speech,language='Kannada')"
   ]
  },
  {
   "cell_type": "code",
   "execution_count": 13,
   "metadata": {},
   "outputs": [
    {
     "data": {
      "text/plain": [
       "454"
      ]
     },
     "execution_count": 13,
     "metadata": {},
     "output_type": "execute_result"
    }
   ],
   "source": [
    "llm.get_num_tokens(complete_prompt)"
   ]
  },
  {
   "cell_type": "code",
   "execution_count": 15,
   "metadata": {},
   "outputs": [],
   "source": [
    "llm_chain=LLMChain(llm=llm,prompt=prompt)\n",
    "summary=llm_chain.run({'speech':speech,'language':'Kannada'})"
   ]
  },
  {
   "cell_type": "code",
   "execution_count": 16,
   "metadata": {},
   "outputs": [
    {
     "data": {
      "text/plain": [
       "\"**Summary:**\\nThe speaker emphasizes the importance of setting a good example through clean and honorable speech and actions. He acknowledges that everyone faces temptations and may slip, but he expects genuine efforts towards decency. The speaker praises the society's work in promoting virtues and highlights that true strength should be combined with decency. He believes that strong individuals can be decent without losing their courage and that society will be more successful when strong men are also decent. He warns young men against the misguided belief that being wicked is a sign of maturity, encouraging them to seek a better understanding of life.\\n\\n**Translation in Kannada:**\\nವಕ್ತಾರರು ಶುದ್ಧ ಮತ್ತು ಗೌರವಪೂರ್ವಕ ಭಾಷೆ ಮತ್ತು ಕ್ರಿಯೆಗಳ ಮೂಲಕ ಉತ್ತಮ ಮಾದರಿಯನ್ನು ಸ್ಥಾಪಿಸುವ ಮಹತ್ವವನ್ನು ಒತ್ತಿಸುತ್ತಾರೆ. ಪ್ರತಿಯೊಬ್ಬರಿಗೂ ಹತೋಟಿಗೆ ಬರುವಂತೆ ಧೃಷ್ಟಿಯುಂಟಾಗಬಹುದು ಎಂದು ಅವರು ಒಪ್ಪುತ್ತಾರೆ, ಆದರೆ ಅವರು ಶುದ್ಧತೆಗೆ ನಿಜವಾದ ಪ್ರಯತ್ನಗಳನ್ನು ನಿರೀಕ್ಷಿಸುತ್ತಾರೆ. ಶ್ರೇಣಿಯ ಅಭಿವೃದ್ಧಿಯಲ್ಲಿನ ಸಮಾಜದ ಕೆಲಸವನ್ನು ಅವರು ಮೆಚ್ಚುತ್ತಾರೆ ಮತ್ತು ನಿಜವಾದ ಶಕ್ತಿ ಶುದ್ಧತೆಯೊಂದಿಗೆ ಒಟ್ಟುಗೂಡಬೇಕಾಗಿದೆ ಎಂದು ಅವರು ಒತ್ತಿಸುತ್ತಾರೆ. ಶಕ್ತಿಶಾಲಿ ವ್ಯಕ್ತಿಗಳು ತಮ್ಮ ಧೈರ್ಯವನ್ನು ಕಳೆದುಕೊಂಡಿಲ್ಲದೆ ಶುದ್ಧರಾಗಬಹುದು ಎಂದು ಅವರು ನಂಬುತ್ತಾರೆ ಮತ್ತು ಶಕ್ತಿಶಾಲಿ ಪುರುಷರು ಶುದ್ಧರಾಗಿರುವಾಗ ಸಮಾಜವು ಹೆಚ್ಚು ಯಶಸ್ವಿಯಾಗಿದೆ. ಯುವ ಪುರುಷರು ದುಷ್ಟವಾಗುವುದು ಪ್ರೌಢತ್ವದ ಸೂಚಕವಾಗಿದೆ ಎಂಬ ತಪ್ಪು ನಂಬಿಕೆಯ ಬಗ್ಗೆ ಅವರು ಎಚ್ಚರಿಸುತ್ತಾರೆ, ಉತ್ತಮ ಜೀವನದ ಅರಿವನ್ನು ಹುಡುಕಲು ಅವರನ್ನು ಪ್ರೋತ್ಸಾಹಿಸುತ್ತಾರೆ.\""
      ]
     },
     "execution_count": 16,
     "metadata": {},
     "output_type": "execute_result"
    }
   ],
   "source": [
    "summary"
   ]
  },
  {
   "cell_type": "markdown",
   "metadata": {},
   "source": [
    "Stuff DocumentChain Text Summarization"
   ]
  },
  {
   "cell_type": "code",
   "execution_count": 17,
   "metadata": {},
   "outputs": [],
   "source": [
    "from PyPDF2 import PdfReader"
   ]
  },
  {
   "cell_type": "code",
   "execution_count": 18,
   "metadata": {},
   "outputs": [],
   "source": [
    "pdfreader = PdfReader(\"/Users/amitsarang/TextSummarization/c026a-summary-of-union-interim-budget-2024-25.pdf\")\n"
   ]
  },
  {
   "cell_type": "code",
   "execution_count": 19,
   "metadata": {},
   "outputs": [],
   "source": [
    "from typing_extensions import Concatenate\n",
    "\n",
    "text = ''\n",
    "for i, page in enumerate(pdfreader.pages):\n",
    "    content = page.extract_text()\n",
    "    if content:\n",
    "        text+=content"
   ]
  },
  {
   "cell_type": "code",
   "execution_count": 20,
   "metadata": {},
   "outputs": [
    {
     "data": {
      "text/plain": [
       "\"WHAT IS A BUDGET?\\nAs per Article 112 of the Constitution, Budget is known as Annual Financial Statement of the \\nGovernment.\\nThe term ‘Budget’ is not mentioned in the Constitution.\\nIt is the statement of estimated receipts and expenditure of the Government in a financial year.\\nUnion Budget is classified into Revenue Budget(including Tax and Non-Tax revenue receipts and \\nexpenditure of the government) and Capital Budget (including capital receipts and payments of \\nthe government).\\nPreparation of budget:\\nDepartment of Economic Affairs, Ministry of Finance is the nodal body responsible for \\npreparing of the Budget.\\nBudget for a year is prepared by the Budget Division of Department of Economic Affairs.\\nIt is prepared broadly on the basis of detailed estimates of expenditure and receipts \\nreceived from various Departments/Ministries and its own subordinate estimating \\nauthorities.\\nBudget is prepared on Cash Basis (i.e. whatever is expected to be actually received or paid \\nunder proper sanction during a financial year).\\nPresentation of budget:\\nPresident in every financial year cause to be laid before both the                                                                                        \\nHouses of Parliament the annual financial statement.\\nIn the Parliament, the budget is presented by the Union Finance                                                                                  \\nMinister, in two parts consisting of Part A and B.\\nPart A: It is the macroeconomic part of the budget where various                                                        \\nschemes and priorities of government are announced, and                                                                 \\nallocations are made to several sectors.Part B: It deals with Finance Bill, which contains taxation proposals such as income tax \\nrevisions and indirect taxes.\\nMajor budget documents: Apart from the Finance Minister’s Budget Speech, following documents \\nare presented to Parliament:\\nAnnual Financial Statement (under Article 112) ,\\nDemands for Grants (under Article 113),\\nFinance Bill (under article 110)\\nFiscal Policy Statements mandated under FRBM Act -\\nMacro-Economic Framework Statement.\\nMedium-Term Fiscal Policy cum Fiscal Policy Strategy Statement.\\nOther explanatory documents are also presented like:\\nExpenditure Budget\\nReceipt Budget\\nExpenditure Profile\\nBudget at a Glance\\nKey Features of Budget 2024-25\\nImplementation of Budget Announcements, 2023-24\\nONLINE  |  DELHI  |  AHMEDABAD  |  BHOPAL  |  CHANDIGARH  |  GUWAHATI  |  HYDERABAD  |  JAIPUR  |  JODHPUR  |  LUCKNOW  |  PRAYAGRAJ  |  PUNE  |  RANCHI  |  SIKAR 1\\n2024-25UNION  INTERIMSUMMARY OFAs per Article 112 of the Constitution, Budget is known as Annual Financial Statement of the \\nGovernment.\\nThe term ‘Budget’ is not mentioned in the Constitution.\\nIt is the statement of estimated receipts and expenditure of the Government in a financial year.\\nUnion Budget is classified into Revenue Budget(including Tax and Non-Tax revenue receipts and \\nexpenditure of the government) and Capital Budget (including capital receipts and payments of \\nthe government).\\nPreparation of budget:\\nDepartment of Economic Affairs, Ministry of Finance is the nodal body responsible for \\npreparing of the Budget.\\nBudget for a year is prepared by the Budget Division of Department of Economic Affairs.\\nIt is prepared broadly on the basis of detailed estimates of expenditure and receipts \\nreceived from various Departments/Ministries and its own subordinate estimating \\nauthorities.\\nBudget is prepared on Cash Basis (i.e. whatever is expected to be actually received or paid \\nunder proper sanction during a financial year).\\nPresentation of budget:\\nPresident in every financial year cause to be laid before both the                                                                                        \\nHouses of Parliament the annual financial statement.\\nIn the Parliament, the budget is presented by the Union Finance                                                                                  \\nMinister, in two parts consisting of Part A and B.\\nPart A: It is the macroeconomic part of the budget where various                                                        \\nschemes and priorities of government are announced, and                                                                 \\nallocations are made to several sectors.Part B: It deals with Finance Bill, which contains taxation proposals such as income tax \\nrevisions and indirect taxes.\\nMajor budget documents: Apart from the Finance Minister’s Budget Speech, following documents \\nare presented to Parliament:\\nAnnual Financial Statement (under Article 112) ,\\nDemands for Grants (under Article 113),\\nFinance Bill (under article 110)\\nFiscal Policy Statements mandated under FRBM Act -\\nMacro-Economic Framework Statement.\\nMedium-Term Fiscal Policy cum Fiscal Policy Strategy Statement.\\nOther explanatory documents are also presented like:\\nExpenditure Budget\\nReceipt Budget\\nExpenditure Profile\\nBudget at a Glance\\nKey Features of Budget 2024-25\\nImplementation of Budget Announcements, 2023-24Union Interim Budget 2024-25\\nONLINE  |  DELHI  |  AHMEDABAD  |  BHOPAL  |  CHANDIGARH  |  GUWAHATI  |  HYDERABAD  |  JAIPUR  |  JODHPUR  |  LUCKNOW  |  PRAYAGRAJ  |  PUNE  |  RANCHI  |  SIKAR 2HISTORY OF BUDGET\\nPre Independence:\\nBudget was first introduced on 7th \\nApril, 1860, two years after the \\ntransfer of Indian administration from  \\nEast-India Company to British Crown.\\nThe first Finance Member, who \\npresented the Budget, was James \\nWilson.\\nMr Liaquat Ali Khan, member of the \\ninterim Government presented the \\nbudget of 1947-48.Post-Independence:\\nIndia’s first Finance Minister Shri R.K. \\nShanmukham Chetty, presented the \\nfirst Budget on 26th November, 1947.\\nSince then, the process of budget \\nhas evolved and emerged as a \\ncrucial tool for Public Finance \\nManagement and reflect the \\nstrength of our democratic \\nprocesses in shaping our economy.\\nBUDGET\\nBUDGET PROCESS\\nINTERIM BUDGET 2024-25\\nGeneral Discussuion \\non Budget in both the \\nHousesDetalied discussion and \\nvoting on Demand for \\nGrants in Lok sabha \\nBudget is\\npresentedStanding Committees \\nscrutinise individual ministers' \\nDemand for  GrantsAppropriation and \\nFinance Bill passed\\nSince 2024 is an election year, instead of a normal budget, an interim budget will be presented \\nthis year.\\nInterim budget: It is a short-term financial plan that covers government expenses until the \\nelections.\\nUnlike a normal budget, which covers every aspect of government finances, including revenues, \\nexpenditures, allocations, and policy statements, interim budget only outlines the government’s \\nanticipated revenues and expenses until the new government is formed.\\nAs part of Interim budget, the Parliament passes a vote-on-account.\\nVote-on-account : According to Article 116 of the Constitution, a vote-on-account represents an \\nadvance payment to the government from the Consolidated Fund of India, for meeting immediate \\nexpenditure requirements.\\nUnion Interim Budget 2024-25THE ENTIRE PROCESS IS COMPLETED IN THE FOLLOWING STEPS-\\nONLINE  |  DELHI  |  AHMEDABAD  |  BHOPAL  |  CHANDIGARH  |  GUWAHATI  |  HYDERABAD  |  JAIPUR  |  JODHPUR  |  LUCKNOW  |  PRAYAGRAJ  |  PUNE  |  RANCHI  |  SIKAR 3Vision of Budget: Viksit Bharat by 2047 “Prosperous \\nBharat in harmony with nature, modern infrastructure \\nand opportunities for all”\\nDevelopment Mantra of Budget: Sabka Saath, Sabka \\nVikas, and Sabka Vishwas’ whole of nation’ approach of \\n‘Sabka Prayas’.\\nPhilosophy is to cover all elements of inclusivity.\\nSocial inclusivity- through coverage of all strata \\nof the society,\\nGeographical inclusivity- through development of \\nall regions of the country.\\nONLINE  |  DELHI  |  AHMEDABAD  |  BHOPAL  |  CHANDIGARH  |  GUWAHATI  |  HYDERABAD  |  JAIPUR  |  JODHPUR  |  LUCKNOW  |  PRAYAGRAJ  |  PUNE  |  RANCHI  |  SIKAR 4BUDGET 2024-25\\nFOCUS AREAS \\nKEY ACHIEVEMENTS IN FOCUS AREAS:Sabka Saath,\\nSabka Vikas\\nSabka Saath,\\nSabka Vikas,\\nSabka Vishwas\\nDeveloped India\\n@2047PART A\\n‘Garib’\\n(Poor)Mahilayen’\\n(Women)‘Yuva’\\n(Youth or\\nAmrit\\nPeedhi)‘Annadata’\\n(Farmer)\\nGarib (Poor)\\nAlleviation of poverty: 25 crore people got freedom from multi-dimensional poverty.\\nDirect Benefit Transfer: 34 lakh crore DBT using PM-Jan Dhan accounts has led to savings of \\n2.7 lakh crore for the Government. \\nPM-SVANidhi \\nCredit assistance provided to 78 lakh street vendors. \\n2.3 lakh have received credit for the third time. \\nPM-JANMAN Yojana: Helped in reaching out to the particularly vulnerable tribal groups. \\nPM-Vishwakarma Yojana: Provided end-to-end support to artisans and craftspeople \\nengaged in 18 trades. Comprehensive\\ndevelopment of all\\nTrinity of \\ndemography, \\ndemocracy and \\ndiversity, backed \\nby 'Sabka Prayas'Union Interim Budget 2024-25ONLINE  |  DELHI  |  AHMEDABAD  |  BHOPAL  |  CHANDIGARH  |  GUWAHATI  |  HYDERABAD  |  JAIPUR  |  JODHPUR  |  LUCKNOW  |  PRAYAGRAJ  |  PUNE  |  RANCHI  |  SIKAR 5Mahilayen (Women)\\nThirty crore Mudra Yojana loans have been given to \\nwomen entrepreneurs.\\nFemale enrolment in higher education has gone up by \\ntwenty-eight per cent in ten years. \\nIn STEM courses, girls and women constitute forty-three \\nper cent of enrolment - one of the highest in the world.\\nEnhancement of Women’s dignity by\\nMaking ‘Triple Talaq’ illegal\\nReservation of one-third seats for women in the Lok Sabha \\nand State legislative assemblies\\nGiving over 70% houses under PM Awas Yojana in rural \\nareas to women as sole or joint owners.Union Interim Budget 2024-25Yuva (Youth or Amrit Peedhi)\\nThe National Education Policy 2020 is ushering in transformational reforms.\\nPM ScHools for Rising India (PM SHRI) delivering quality teaching, and nurturing holistic and \\nwell-rounded individuals. \\nThe Skill India Mission: Trained 1.4 crore youth, upskilled and reskilled 54 lakh youth, and \\nestablished 3000 new ITIs. \\nNew institutions of higher learning: 7 IITs, 16 IIITs, 7 IIMs, 15 AIIMS and 390 universities have been \\nset up. \\nPM Mudra Yojana- Sanctioned 43 crore loans aggregating to 22.5 lakh crore.\\nFund of Funds, Start Up India, and Start Up Credit Guarantee schemes: Assisting youth and \\nmaking them ‘rozgardata’. \\nYouth in Sports-\\nThe highest ever medal tally in Asian Games and Asian Para Games in 2023.\\nChess prodigy Praggnanandhaa put up a stiff fight against the reigning World Champion \\nMagnus Carlsson in 2023.\\nIndia has over 80 chess grandmasters compared to little over 20 in 2010.\\nAnnadata (Farmer)\\nPM-KISAN SAMMAN Yojana: Direct financial assistance is provided to \\n11.8 crore farmers, including marginal and small farmers.\\nPM Fasal Bima Yojana: Crop insurance is given to 4 crore farmers.\\nElectronic National Agriculture Market: Integrated 1361 mandis, and providing services to 1.8 \\ncrore farmers with trading volume of Rs 3 lakh crore.\\nOther measures like farmer-centric policies, income support, coverage of risks through price and \\ninsurance support, promotion of technologies and innovations through start-ups.2017-1823.3Percent\\n2022-2337.0Rise in Female Labour\\nForce Participation RateSustainable Development\\nCommitment to meet ‘Net Zero’ by 2070\\nViability gap funding for wind energy\\nSetting up of coal gasification and liquefaction capacity\\nPhased mandatory blending of CNG, PNG and \\ncompressed biogas\\nFinancial assistance for procurement of biomass \\naggregation machinery\\nRooftop solarization-\\nUp to 300 units of free electricity per month for   1 \\ncrore households\\nAdoption of e-buses for public transport network\\nStrengthening e-vehicle ecosystem by supporting \\nmanufacturing and charging.\\nNew scheme of biomanufacturing and bio- foundry to be \\nlaunched to support environment friendly alternatives.STRATEGY FOR AMRIT KAAL\\nInfrastructure and Investment\\nImplementation of 3 major railway corridor programmes under PM Gati Shakti-to improve \\nlogistics efficiency and reduce cost.\\nPromotion of foreign investment via bilateral investment treaties to be negotiated.\\nExpansion of existing airports and comprehensive development of new airports under UDAN \\nscheme.\\nPromotion of urban transformation via Metro rail and NaMo Bharat.Achievements till now\\n10 crore LPG  connections \\nreleased under PMUY\\n36.9 crore LED  bulbs, 72.2 lakh \\nLED Tube lights\\n23.6 lakh  Energy efficient fans \\ndistributed under UJALA\\n1.3 crore  LED Street Lights \\ninstalled under SNLP\\nNon-Fossil Fuel installed energy \\ncapacity increased from 30.4% \\nin 2004 to 43.9% in 2023.\\nONLINE  |  DELHI  |  AHMEDABAD  |  BHOPAL  |  CHANDIGARH  |  GUWAHATI  |  HYDERABAD  |  JAIPUR  |  JODHPUR  |  LUCKNOW  |  PRAYAGRAJ  |  PUNE  |  RANCHI  |  SIKAR 6Increase in Capital ExpenditureAchievements till now\\nDoubling of FDI Inflow\\n0 01234\\nUSD Billion\\nFY18 FY19 FY20 FY21 FY22 FY23 FY24\\n(BE) (BE)FY252005-2014298596\\n2014-202336912Union Interim Budget 2024-25Inclusive Development\\nAspirational Districts Programme to assist States in faster development and employment \\ngeneration.\\nDevelopment of the East To make the eastern region and its people a powerful driver of India’s \\ngrowth.\\nAdditional 2 crore houses targeted for next 5 years under PM Awas Yojana (Grameen) \\nHousing for middle class scheme to be launched to promote middle class to buy/built their \\nown houses.\\nMore medical colleges will be set up by utilizing the existing hospital infrastructure.\\nCervical Cancer Vaccination for girls in age group of 9 to 14 years.\\nMaternal and child health care- Various schemes to be brought under one comprehensive \\nprogramme for synergy in implementation.\\nUpgradation of anganwadi centres under “Saksham Anganwadi and Poshan 2.0” will be \\nexpedited for improved nutrition delivery, early childhood care and development.   \\nU-WIN platform will be rolled out for managing immunization and intensified efforts of Mission \\nIndradhanush.\\nExtension of Ayushman Bharat scheme to all ASHA workers, Anganwadi Workers and Helpers. \\nAgriculture and Food Processing\\nPromoting private and public investment in Post-harvest activities like aggregation, modern \\nstorage, efficient supply chains, primary and secondary processing and marketing and \\nbranding.\\nApplication of Nano DAP on various crops will be expanded in all agro-climatic zones.  \\nAtmanirbhar Oilseeds Abhiyaan-Strategy to be formulated to achieve atmanirbharta for \\noilseeds.\\nComprehensive programme for dairy development to be formulated to control foot and \\nmouth disease and increase productivity of milch aimals.\\nStepping up the implementation of Pradhan Mantri Matsaya Sampada Yojana to enhance \\naquaculture productivity, double exports and generate more employment opportunities \\n5 Integrated Aquaparks to be set up.\\nPromoting Blue Economy 2.0: a scheme for restoration and adaptation measures, and coastal \\naquaculture and mariculture with integrated and multi-sectoral approach will be launchedAchievements till now\\nInclusive Development\\nin Aspirational Districts (112)\\nPer cent% of Women registered for \\nAnti-Natal Care within First \\nTrimesterNumber of enrolments under \\nPradhan Mantri Jeevan Jyoti \\nBima Yojana (PMJJBY) per lakh \\npopulation\\n20186889\\nOct-23\\nNumber\\n2018173713195\\nOct-23Increased allocation\\nfor PMAY\\n2023-24\\n(BE) (BE)7959080671\\n2024-25Crore\\nONLINE  |  DELHI  |  AHMEDABAD  |  BHOPAL  |  CHANDIGARH  |  GUWAHATI  |  HYDERABAD  |  JAIPUR  |  JODHPUR  |  LUCKNOW  |  PRAYAGRAJ  |  PUNE  |  RANCHI  |  SIKAR 7Union Interim Budget 2024-257\\nAchievements till now\\nRs. CroreIncreased allocation for \\nBlue RevolutionIncreased allocation for PM- Formalisation of \\nMicro Food Processing Enterprises scheme\\n2023-24\\n(BE)20252352\\n2024-25\\n(BE)\\nRs. Crore\\n2023-24\\n(BE)639880\\n2024-25\\n(BE)Union Interim Budget 2024-25Tourism\\nStates will be encouraged to take up comprehensive development of iconic tourist centres, branding \\nand marketing them at global scale.\\nA framework for rating of the centres based on quality of facilities and services will be \\nestablished.\\nLong-term interest free loans will be provided to States for financing such development on \\nmatching basis.\\nProjects for port connectivity, tourism infrastructure, and amenities will be taken up for islands, \\nincluding Lakshadweep.\\nONLINE  |  DELHI  |  AHMEDABAD  |  BHOPAL  |  CHANDIGARH  |  GUWAHATI  |  HYDERABAD  |  JAIPUR  |  JODHPUR  |  LUCKNOW  |  PRAYAGRAJ  |  PUNE  |  RANCHI  |  SIKAR 8Other Measures\\nTo enhance the target for Lakhpati Didi from 2 crore to 3 crore. \\nLakhpati Didi refers to women members of Self Help Groups (SHGs) who earn a sustainable \\nincome of at least Rs 1 lakh per year per household. \\nPromoting Research and Innovation\\nA corpus of rupees one lakh crore will be established with fifty-year interest free loan. \\nA new scheme will be launched for strengthening deep-tech technologies for defence \\npurposes and expediting ‘atmanirbharta’.\\nReforms in the States for ‘Viksit Bharat’: A provision of seventy-five thousand crore rupees as \\nfifty-year interest free loan is proposed to support milestone-linked reforms by the State \\nGovernments.  \\nAddressing Societal Challenges: A high-powered committee will be formed to address \\nchallenges due to fast population growth and demographic changes and achieve the goal of \\n‘Viksit Bharat’.Direct Tax\\nTax Collections more than trebled in \\nlast 10 years.\\nNumber of return filers swelled to 2.4 \\ntimes.\\nReduction in average processing time \\nof returns from 93 days in 2013-14 to \\n10 days in 2023-24.\\nNew Tax regime resulted in reduced \\nand rationalized tax rates\\nTaxpayers with income up to ₹7 lakh \\nhave no tax liability\\nThe threshold for presumptive \\ntaxation for retail businesses raised \\nfrom ₹2 crore to ₹3 crore.\\nCorporate tax rate decreased from \\n30% to 22% for existing companies \\nand 15% for new manufacturing \\ncompanies.\\nImprovement in tax-payer services \\nthrough\\nFaceless Assessment and Appeal\\nNew Form 26AS and prefilling of tax \\nreturns.PART B\\nONLINE  |  DELHI  |  AHMEDABAD  |  BHOPAL  |  CHANDIGARH  |  GUWAHATI  |  HYDERABAD  |  JAIPUR  |  JODHPUR  |  LUCKNOW  |  PRAYAGRAJ  |  PUNE  |  RANCHI  |  SIKAR 9DIRECT AND INDIRECT TAXES\\nGross Tax\\nReceips11.2\\n5.1\\n2022-23\\n(Actuals)2023-24\\n(Budget Estimates)2023-24\\n(Revised Estimates)2024-25\\n(Budget Estimates)5.1 5.0 4.96.1 6.06.6 6.711.111.6 11.7\\nDirect Tax\\nIndirect TaxOVERALL TREND IN TAX RECEIPTS:Indirect Tax\\nAverage monthly Gross GST collections \\ndoubled to 21.66 lakh crore in FY24.\\nIncrease in tax buoyancy of State \\nrevenue from 0.72 (2012-16) to 1.22 in \\nthe post-GST period (2017-23)\\nReduction in logistics cost and prices of \\nmost goods and services\\nDecline in import release time since \\n2019\\n47 per cent at Inland Container \\nDepots\\n28 per cent at Air Cargo \\ncomplexes\\n27 per cent at Sea Ports\\nSupply Chain Optimization by \\neliminating tax arbitrage and octroi.\\nUnion Interim Budget 2024-25Income\\nTax (19%)Borrowing and\\nOther Liabilities\\n(28%)\\nUnion Excise\\nDuties (5%)\\nCorporation\\ntax (17%)\\nGST and other\\ntaxes (18%)Customs (4%)Pensions (4%)\\nNon-Tax\\nReceipts (7%)\\nNon-Debt Capital\\nReceipts (1%)RUPEE COMES FROM RUPEE GOES TO\\nInterest \\nPayments\\n(20%)Other\\nExpenditure\\n(9%)\\nStates' share\\nof Taxes\\nand Duties\\n(20%)\\nCentrally\\nSponsored\\nSchemes\\n(8%)\\nSubsidies\\n(6%)Central Sector\\nSchemes\\n(16%)Finance\\nCommission\\nand other \\ntransfers\\n(8%)\\nDefence (8%)\\nTAX PROPOSALS\\nContinuity in taxation: Certain tax benefits to Start-ups and investments made by sovereign \\nwealth funds/pension funds and tax exemption of some IFSC units extended up to 31.03.2025.\\nWithdrawal of outstanding direct tax demand: -\\nUp to ₹25,000 pertaining up to FY10\\nUp to ₹10,000 for FY11-FY15\\nThis is expected to benefit approx. 1 crore taxpayers\\nRetention of same tax rates for direct and indirect taxes, import duties, corporate taxes.\\nONLINE  |  DELHI  |  AHMEDABAD  |  BHOPAL  |  CHANDIGARH  |  GUWAHATI  |  HYDERABAD  |  JAIPUR  |  JODHPUR  |  LUCKNOW  |  PRAYAGRAJ  |  PUNE  |  RANCHI  |  SIKAR 102022-23\\n(Actuals)2023-24\\n(Budget Estimates)2023-24\\n(Revised Estimates)2024-25\\n(Budget Estimates)01,00,000\\n10,00,00011,00,00012,00,000\\n-1,00,0002,00,0003,00,0004,00,0005,00,000Sources of Financing FD\\n(Excluding Market Borrowings)Market BorrowingsMarket BorrowingsSources of Deﬁcit Financing\\nShort Term\\nBorrowingSecurities Against\\nSmall SavingsState\\nProvident Funds\\nOther Receipts\\n(Internal Debt and Public Account)External DebtDraw Down of\\nCash BalanceIn   croreUnion Interim Budget 2024-25ONLINE  |  DELHI  |  AHMEDABAD  |  BHOPAL  |  CHANDIGARH  |  GUWAHATI  |  HYDERABAD  |  JAIPUR  |  JODHPUR  |  LUCKNOW  |  PRAYAGRAJ  |  PUNE  |  RANCHI  |  SIKAR 11\\n0.00.51.01.52.02.5\\nFY14\\nFY15\\nFY16\\nFY17\\nFY18\\nFY19\\nFY20\\nFY21\\nFY22\\nFY23\\nH1: FY24PDG fo tnec rePDeclining CAD as % of GDP\\n6.15.8\\n4.8\\n4.2 4.1\\n3.2\\n2017-182018-192019-202020-212021-222022-23Per centDeclining  Unemployment R ate \\n3.84.37.59.311.2\\n9.1\\n8.2\\n7.3\\n5.8\\n3.2FY14\\nFY15\\nFY16\\nFY17\\nFY18\\nFY19\\nFY20\\nFY21\\nFY22\\nSep-23secnavdA ssorG fo % a sAPN ssorGDeclining GNPAs as % of \\nGross Advances  \\n0400080001200016000\\nFY18FY19FY20FY21FY22FY23FY24CroreRising volume of Digital \\nTransactions\\n0.91.01.0\\n0.91.21.51.7\\n0.60.91.21.51.8\\nFY18\\nFY19\\nFY20\\nFY21\\nFY22\\nFY23\\nFY24erorC hkaL ₹Rise in average  monthly g ross \\nGST collection s\\n9.4\\n5.8\\n4.94.5\\n3.63.44.86.2\\n5.56.7\\n5.5FY14\\nFY15\\nFY16\\nFY17\\nFY18\\nFY19\\nFY20\\nFY21\\nFY22\\nFY23\\nFY24*Per centFall in Headline Inflati onPERFORMANCE OF INDIAN ECONOMYUnion Interim Budget 2024-25ONLINE  |  DELHI  |  AHMEDABAD  |  BHOPAL  |  CHANDIGARH  |  GUWAHATI  |  HYDERABAD  |  JAIPUR  |  JODHPUR  |  LUCKNOW  |  PRAYAGRAJ  |  PUNE  |  RANCHI  |  SIKAR 12\\nAppropriation\\nBillIt gives power to the government to withdraw funds from the Consolidated \\nFund of India for meeting the expenditure during the financial year. \\nOctroiIt is tax levied by a local municipal authority, on certain categories of \\ngoods as they enter the area.\\nSovereign\\nWealth FundsThey are state-owned investment pool that manages a country's financial \\nreserves, investing in various assets such as stocks, bonds, real estate, and \\nother instruments to generate long-term wealth and achieve economic \\nobjectives.\\nCustom Duty It is a tax imposed on imports and exports of goods.\\nTax arbitrageIt is strategically exploiting differences in tax regulations or rates between \\njurisdictions to minimise tax liability or maximise financial gains.\\nDirect taxesTax payments made directly to the government by individuals, including \\nincome tax, poll tax, land tax, and personal property tax.\\nIndirect TaxesTaxes imposed on goods and services, collected by intermediaries such as \\nmanufacturers or retailers who pass it on to the final consumer. Examples \\ninclude Goods and Services Tax (GST), excise duty, and customs duty.Union Interim Budget 2024-25Revenue\\nreceiptsIt refers to the money the government receives without incurring debts or \\nlosing valuable assets, covering items like taxes, profits from public enter-\\nprises, and fees for services.\\nCorporate taxIt is a direct tax imposed by governments on a company's profits, \\ncalculated as a percentage of its net income, to generate revenue for public \\nservices and infrastructure.\\nTax buoyancyIt measures how tax revenues respond to changes in economic output, \\nreflecting an economy's attributes, effective collections, and the impact of \\npolicy measures over time.\\nViability gap\\nfundingIt provides grants to back economically justified yet financially nonviable \\nprojects.\\nPresumptive\\ntaxationIt is a simplified method allowing eligible businesses to declare a pre-\\nscribed percentage of turnover as income, streamlining tax compliance by \\nminimising the need for detailed accounting records.\\nInflation It is the rate of increase in prices over or how much more expensive a set of \\ngoods and services has become over a given time period.\\nCapital\\nexpenditureIt is the government's investment in long-term development, including \\nmachinery, buildings, and education, as well as acquiring assets like land \\nand profitable investments for future returns.\\nBudget\\nestimatesThey are financial projections presented by the Union finance minister, \\noutlining allocations for different sectors in the annual budget. They signify \\nthe government's intended expenditure but are not exact figures or binding \\ncommitment.\\nDirect\\nBenefit\\nTransferThe aim of DBT is to transfer the benefits and subsidies of various social \\nwelfare schemes directly in the bank account of the beneficiary on time. \\nThis eliminates the intermediary body, prevent any frauds and brings effi-\\nciency, effectiveness and transparency.\\nLabour Force\\nParticipation\\nrateIt is a measure of the proportion of a country's working-age population \\nthat engages actively in the labour market, either by working or looking for \\nwork.GLOSSARYIMPORTANT CONSTITUTIONAL PROVISIONS RELATED TO BUDGET\\nARTICLE PROVISION\\nArticle 109 Special procedure in respect of Money Bills\\nArticle 110 Definition of Money Bills\\nArticle 112 Annual Financial Statement\\nArticle 113 Procedure in Parliament with respect to Estimates.\\nArticle 114 Appropriation Bills\\nArticle 115 Supplementary, Additional or Excess Grants.\\nArticle 116 Vote on account, Vote of credit and Exceptional Grant\\nArticle 117 Special provisions as to Financial Bills\\nArticle 150 Form of accounts of the Union and of the States\\nArticle 151 Audit reports\\nArticle 265 Taxes not to be imposed except by authority of law\\nConsolidated Funds and Public Accounts of India and of the States Article 266\\nContingency Fund Article 267\\nGrants from the Union to certain States Article 275\\nFinance Commission Article 280\\nRecommendations of the Finance Commission Article 281\\nBorrowing by the Government of India Article 292\\nUnion Interim Budget 2024-25\""
      ]
     },
     "execution_count": 20,
     "metadata": {},
     "output_type": "execute_result"
    }
   ],
   "source": [
    "text"
   ]
  },
  {
   "cell_type": "code",
   "execution_count": 21,
   "metadata": {},
   "outputs": [],
   "source": [
    "llm = ChatOpenAI(temperature=0,model_name=\"gpt-4o-mini\")"
   ]
  },
  {
   "cell_type": "code",
   "execution_count": 23,
   "metadata": {},
   "outputs": [],
   "source": [
    "from langchain import PromptTemplate\n",
    "from langchain.chat_models import ChatOpenAI\n",
    "from langchain.chains.summarize import load_summarize_chain\n",
    "from langchain.docstore.document import Document"
   ]
  },
  {
   "cell_type": "code",
   "execution_count": 24,
   "metadata": {},
   "outputs": [],
   "source": [
    "template = '''Write a concise and short summary of the following speech.\n",
    "Speech:`{text}`\n",
    "'''\n",
    "prompt = PromptTemplate(\n",
    "    input_variables=['text'],\n",
    "    template=template\n",
    ")"
   ]
  },
  {
   "cell_type": "code",
   "execution_count": 27,
   "metadata": {},
   "outputs": [],
   "source": [
    "docs = [Document(page_content=text)]"
   ]
  },
  {
   "cell_type": "code",
   "execution_count": 28,
   "metadata": {},
   "outputs": [],
   "source": [
    "chain = load_summarize_chain(\n",
    "    llm,\n",
    "    chain_type='stuff',\n",
    "    prompt=prompt,\n",
    "    verbose=False\n",
    "\n",
    ")\n",
    "output_summary = chain.run(docs)\n"
   ]
  },
  {
   "cell_type": "code",
   "execution_count": 29,
   "metadata": {},
   "outputs": [
    {
     "name": "stdout",
     "output_type": "stream",
     "text": [
      "The speech outlines the concept and process of the Union Budget in India, defined as the Annual Financial Statement under Article 112 of the Constitution. It explains the classification of the budget into Revenue and Capital Budgets, the preparation process led by the Department of Economic Affairs, and the presentation by the Union Finance Minister in Parliament. The speech also highlights the historical context of the budget, the transition to an interim budget for 2024-25 due to elections, and the vision for a developed India by 2047. Key focus areas include poverty alleviation, women's empowerment, youth development, and agricultural support, along with significant achievements in these sectors. The speech concludes with an overview of tax proposals and the importance of inclusivity in development strategies.\n"
     ]
    }
   ],
   "source": [
    "print(output_summary)"
   ]
  },
  {
   "cell_type": "markdown",
   "metadata": {},
   "source": [
    "Summarizing Large Doc using MAP-REDUCE"
   ]
  },
  {
   "cell_type": "code",
   "execution_count": 31,
   "metadata": {},
   "outputs": [],
   "source": [
    "from langchain import PromptTemplate\n",
    "from langchain.chat_models import ChatOpenAI\n",
    "from langchain.chains.summarize import load_summarize_chain\n",
    "from langchain.text_splitter import RecursiveCharacterTextSplitter"
   ]
  },
  {
   "cell_type": "code",
   "execution_count": 32,
   "metadata": {},
   "outputs": [],
   "source": [
    "from typing_extensions import Concatenate\n",
    "\n",
    "llm = ChatOpenAI(temperature =0.5,model_name=\"gpt-4o-mini\")\n"
   ]
  },
  {
   "cell_type": "code",
   "execution_count": 33,
   "metadata": {},
   "outputs": [
    {
     "data": {
      "text/plain": [
       "6559"
      ]
     },
     "execution_count": 33,
     "metadata": {},
     "output_type": "execute_result"
    }
   ],
   "source": [
    "llm.get_num_tokens(text)"
   ]
  },
  {
   "cell_type": "code",
   "execution_count": 34,
   "metadata": {},
   "outputs": [],
   "source": [
    "text_splitter = RecursiveCharacterTextSplitter(chunk_size=1000,chunk_overlap=200)\n",
    "chunks = text_splitter.create_documents([text])"
   ]
  },
  {
   "cell_type": "code",
   "execution_count": 36,
   "metadata": {},
   "outputs": [
    {
     "data": {
      "text/plain": [
       "31"
      ]
     },
     "execution_count": 36,
     "metadata": {},
     "output_type": "execute_result"
    }
   ],
   "source": [
    "len(chunks)"
   ]
  },
  {
   "cell_type": "code",
   "execution_count": 38,
   "metadata": {},
   "outputs": [
    {
     "name": "stderr",
     "output_type": "stream",
     "text": [
      "/Users/amitsarang/TextSummarization/venv/lib/python3.9/site-packages/langchain_community/chat_models/openai.py:173: UserWarning: Unexpected type for token usage: <class 'NoneType'>\n",
      "  warnings.warn(f\"Unexpected type for token usage: {type(new_usage)}\")\n"
     ]
    }
   ],
   "source": [
    "chain = load_summarize_chain(\n",
    "    llm,\n",
    "    chain_type = 'map_reduce',\n",
    "    verbose = False\n",
    ")\n",
    "summary = chain.run(chunks)"
   ]
  },
  {
   "cell_type": "code",
   "execution_count": 39,
   "metadata": {},
   "outputs": [
    {
     "name": "stdout",
     "output_type": "stream",
     "text": [
      "The Union Budget, as defined in Article 112 of the Constitution, outlines the government's estimated receipts and expenditures for the financial year, divided into Revenue and Capital Budgets. Prepared by the Ministry of Finance, it is presented annually in two parts by the Union Finance Minister, covering macroeconomic priorities and taxation proposals. The 2024-25 budget focuses on inclusive development, targeting poverty alleviation, women's empowerment, education, and infrastructure, with initiatives like the PM-KISAN SAMMAN Yojana and Mudra Yojana. It aims for a \"Viksit Bharat\" (Developed India) by 2047 and includes a review of tax receipts, highlighting increased GST collections and improved state revenue. Key proposals involve extending benefits for start-ups and maintaining overall tax rates. The budget reflects positive economic trends, including a declining Current Account Deficit and lower unemployment, while detailing constitutional provisions and legislative procedures related to financial statements and taxation.\n"
     ]
    }
   ],
   "source": [
    "print(summary)"
   ]
  },
  {
   "cell_type": "markdown",
   "metadata": {},
   "source": [
    "MAP-REDUCE with Custom Prompts"
   ]
  },
  {
   "cell_type": "code",
   "execution_count": 40,
   "metadata": {},
   "outputs": [],
   "source": [
    "chunks_prompt=''''Please summarize the below speech:\n",
    "speech:`{text}`\n",
    "summary:\n",
    "'''\n",
    "\n",
    "map_prompt_template=PromptTemplate(input_variables=['text'],\n",
    "                                template=chunks_prompt)"
   ]
  },
  {
   "cell_type": "code",
   "execution_count": 42,
   "metadata": {},
   "outputs": [],
   "source": [
    "final_combine_prompt='''Provide a final summary of the entire pdf wiht these important points.\n",
    "1 Generic Title\n",
    "2 start the summary with an introduction to the pdf content\n",
    "3 Summary for each concepts which are specified in pdf, i.e highlight all the main concept\n",
    "4 Conclude with the main factors of improvement and focuses.\n",
    "speech:`{text}`'''\n",
    "final_combine_prompt_template=PromptTemplate(\n",
    "    input_variables=['text'],\n",
    "    template=final_combine_prompt\n",
    ")"
   ]
  },
  {
   "cell_type": "code",
   "execution_count": 43,
   "metadata": {},
   "outputs": [],
   "source": [
    "summary_chain = load_summarize_chain(\n",
    "    llm=llm,\n",
    "    chain_type = 'map_reduce',\n",
    "    map_prompt = map_prompt_template,\n",
    "    combine_prompt = final_combine_prompt_template,\n",
    "    verbose=False\n",
    ")"
   ]
  },
  {
   "cell_type": "code",
   "execution_count": 44,
   "metadata": {},
   "outputs": [
    {
     "name": "stderr",
     "output_type": "stream",
     "text": [
      "/Users/amitsarang/TextSummarization/venv/lib/python3.9/site-packages/langchain_community/chat_models/openai.py:173: UserWarning: Unexpected type for token usage: <class 'NoneType'>\n",
      "  warnings.warn(f\"Unexpected type for token usage: {type(new_usage)}\")\n"
     ]
    }
   ],
   "source": [
    "output = summary_chain.run(chunks)"
   ]
  },
  {
   "cell_type": "code",
   "execution_count": 45,
   "metadata": {},
   "outputs": [
    {
     "name": "stdout",
     "output_type": "stream",
     "text": [
      "### Final Summary of the PDF: Union Budget Speech 2024-25\n",
      "\n",
      "**Introduction**  \n",
      "The PDF presents the Union Budget Speech for the financial year 2024-25, detailing the government's comprehensive financial strategies, projected revenues and expenditures, and various initiatives aimed at fostering inclusive growth and sustainable development. It outlines the budget preparation process, historical context, and key components that reflect the government's priorities in addressing socioeconomic challenges.\n",
      "\n",
      "**Key Concepts and Summary**\n",
      "\n",
      "1. **Budget Overview**:  \n",
      "   The budget is articulated as the Annual Financial Statement of the Government, divided into Revenue and Capital Budgets. The Revenue Budget encompasses tax and non-tax revenues, while the Capital Budget focuses on capital receipts and payments. The preparation involves estimates from various departments compiled by the Department of Economic Affairs.\n",
      "\n",
      "2. **Budget Preparation Process**:  \n",
      "   The Union Finance Minister presents the budget in two parts to Parliament: Part A covers macroeconomic perspectives and government priorities, while Part B details taxation proposals in the Finance Bill. Important documents include the Annual Financial Statement and Fiscal Policy Statements, as mandated by the FRBM Act.\n",
      "\n",
      "3. **Historical Context**:  \n",
      "   The speech traces the evolution of budget presentation in India, highlighting its significance in Public Finance Management since James Wilson's budget in 1860 and its development post-independence.\n",
      "\n",
      "4. **Interim Budget**:  \n",
      "   The interim budget serves as a temporary financial arrangement until elections, facilitating advance payments from the Consolidated Fund of India for immediate expenditures.\n",
      "\n",
      "5. **Vision for Development**:  \n",
      "   Aiming for a \"Viksit Bharat\" (Developed India) by 2047, the speech emphasizes inclusivity through the principles of \"Sabka Saath, Sabka Vikas, and Sabka Vishwas,\" addressing societal and geographical disparities.\n",
      "\n",
      "6. **Poverty Alleviation Initiatives**:  \n",
      "   The budget highlights significant strides in poverty alleviation, with 25 crore individuals lifted out of multidimensional poverty and substantial savings from Direct Benefit Transfer (DBT) schemes, targeting marginalized groups.\n",
      "\n",
      "7. **Women and Youth Empowerment**:  \n",
      "   Initiatives such as Mudra Yojana loans and the National Education Policy 2020 are underscored as transformative efforts to empower women and enhance youth skill development.\n",
      "\n",
      "8. **Support for Farmers**:  \n",
      "   Key programs like the PM-KISAN SAMMAN Yojana and PM Fasal Bima Yojana provide financial assistance and insurance to farmers, coupled with technology promotion and risk coverage.\n",
      "\n",
      "9. **Sustainable Development Initiatives**:  \n",
      "   The speech outlines programs promoting renewable energy, infrastructure development, and environmental sustainability, including financial support for biogas and electric vehicle ecosystems.\n",
      "\n",
      "10. **Regional Development Initiatives**:  \n",
      "    Specific initiatives are designed to bolster development in the eastern region, focusing on housing schemes and healthcare for maternal and child health.\n",
      "\n",
      "11. **Agricultural and Fisheries Development**:  \n",
      "    Comprehensive programs for dairy development, aquaculture, and the Blue Economy are discussed, emphasizing coastal restoration and adaptation measures.\n",
      "\n",
      "**Conclusion**  \n",
      "The Union Budget Speech for 2024-25 reflects a strong commitment to inclusive growth, sustainable development, and the empowerment of marginalized communities. Key areas for improvement include enhancing public finance management, fostering regional development, and promoting gender equality. The vision of achieving a developed India by 2047 through holistic strategies underlines the government's dedication to addressing diverse population needs while ensuring environmental sustainability and economic growth.\n",
      "\n",
      "### Summary of the PDF: Union Interim Budget Speech 2024-25\n",
      "\n",
      "**Introduction**  \n",
      "The PDF details the Union Interim Budget Speech for the fiscal year 2024-25, outlining key financial strategies, budget allocations, tax reforms, and government programs aimed at fostering economic growth and societal development in India, with an emphasis on sustainability and governance.\n",
      "\n",
      "**Key Concepts and Summary**\n",
      "\n",
      "1. **Blue Revolution and PM Formalisation of Micro Food Processing Enterprises Scheme**:  \n",
      "   Initiatives under these schemes receive a budget allocation of Rs. 639,880 crore, focusing on developing iconic tourist centers and enhancing food processing.\n",
      "\n",
      "2. **Economic Development Initiatives**:  \n",
      "   The Lakhpati Didi program aims to increase beneficiaries from 2 crore to 3 crore, promoting women's empowerment through Self Help Groups, alongside a ₹1 lakh crore corpus for defense technology research.\n",
      "\n",
      "3. **Advancements in Direct Tax System**:  \n",
      "   Direct tax collections have significantly increased, with lower tax rates and improved processing times for returns, benefiting taxpayers.\n",
      "\n",
      "4. **Trends and Projections in Tax Receipts**:  \n",
      "   Gross tax receipts are projected to rise, particularly in indirect taxes, with improvements in logistics and supply chain efficiency since GST implementation.\n",
      "\n",
      "5. **Budget Breakdown and Financial Allocations**:  \n",
      "   Revenue sources include income tax and GST, with significant expenditures on interest payments. Tax proposals aim to extend benefits to start-ups and sovereign funds.\n",
      "\n",
      "6. **Economic Performance Indicators**:  \n",
      "   Positive economic trends include a declining Current Account Deficit and rising digital transactions, indicating overall stability.\n",
      "\n",
      "7. **Financial Concepts Related to Taxation**:  \n",
      "   Key financial terms are defined, emphasizing the government's approach to managing fiscal health and enhancing tax buoyancy.\n",
      "\n",
      "8. **Policy Measures for Economic Management**:  \n",
      "   Emphasis on viability gap funding and presumptive taxation aims to enhance project viability and simplify tax processes.\n",
      "\n",
      "9. **Direct Benefit Transfer (DBT) Initiative**:  \n",
      "   The initiative aims for efficient delivery of social welfare benefits, enhancing transparency and reducing fraud.\n",
      "\n",
      "10. **Constitutional Provisions Related to Budgeting**:  \n",
      "    The speech references constitutional articles governing financial governance and procedures for Money Bills.\n",
      "\n",
      "**Conclusion**  \n",
      "The Union Interim Budget Speech for 2024-25 underscores the government's commitment to economic growth through targeted initiatives, tax reforms, and effective financial management. Key areas for improvement include enhancing women's economic participation, promoting research and innovation, and ensuring efficient tax collection. The focus on sustainable development and direct benefit transfers reflects a strategic approach to addressing current challenges while laying the groundwork for future growth.\n"
     ]
    }
   ],
   "source": [
    "print(output)"
   ]
  }
 ],
 "metadata": {
  "kernelspec": {
   "display_name": "Python 3",
   "language": "python",
   "name": "python3"
  },
  "language_info": {
   "codemirror_mode": {
    "name": "ipython",
    "version": 3
   },
   "file_extension": ".py",
   "mimetype": "text/x-python",
   "name": "python",
   "nbconvert_exporter": "python",
   "pygments_lexer": "ipython3",
   "version": "3.9.20"
  }
 },
 "nbformat": 4,
 "nbformat_minor": 2
}
